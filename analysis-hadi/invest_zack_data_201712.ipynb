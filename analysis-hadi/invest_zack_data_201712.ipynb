{
 "cells": [
  {
   "cell_type": "code",
   "execution_count": 29,
   "metadata": {},
   "outputs": [
    {
     "name": "stdout",
     "output_type": "stream",
     "text": [
      "Populating the interactive namespace from numpy and matplotlib\n"
     ]
    },
    {
     "ename": "ModuleNotFoundError",
     "evalue": "No module named 'publicsuffix'",
     "output_type": "error",
     "traceback": [
      "\u001b[0;31m---------------------------------------------------------------------------\u001b[0m",
      "\u001b[0;31mModuleNotFoundError\u001b[0m                       Traceback (most recent call last)",
      "\u001b[0;32m<ipython-input-29-8753d2dfff67>\u001b[0m in \u001b[0;36m<module>\u001b[0;34m()\u001b[0m\n\u001b[1;32m      8\u001b[0m \u001b[0;32mimport\u001b[0m \u001b[0mjson\u001b[0m\u001b[0;34m\u001b[0m\u001b[0m\n\u001b[1;32m      9\u001b[0m \u001b[0;32mfrom\u001b[0m \u001b[0msix\u001b[0m\u001b[0;34m.\u001b[0m\u001b[0mmoves\u001b[0m\u001b[0;34m.\u001b[0m\u001b[0murllib\u001b[0m\u001b[0;34m.\u001b[0m\u001b[0mparse\u001b[0m \u001b[0;32mimport\u001b[0m \u001b[0murlparse\u001b[0m\u001b[0;34m\u001b[0m\u001b[0m\n\u001b[0;32m---> 10\u001b[0;31m \u001b[0;32mfrom\u001b[0m \u001b[0mpublicsuffix\u001b[0m \u001b[0;32mimport\u001b[0m \u001b[0mPublicSuffixList\u001b[0m\u001b[0;34m,\u001b[0m \u001b[0mfetch\u001b[0m\u001b[0;34m\u001b[0m\u001b[0m\n\u001b[0m",
      "\u001b[0;31mModuleNotFoundError\u001b[0m: No module named 'publicsuffix'"
     ]
    }
   ],
   "source": [
    "# Script to chekc/understand data Zack W has sent (started: 14-12-2017)\n",
    "%pylab inline --no-import-all\n",
    "import pandas as pd\n",
    "import statsmodels.api as sm\n",
    "import scipy.stats as stats\n",
    "from collections import Counter, OrderedDict\n",
    "#from sklearn.decomposition import PCA, FactorAnalysis\"\n",
    "import json\n",
    "from six.moves.urllib.parse import urlparse\n",
    "#from publicsuffix import PublicSuffixList, fetch"
   ]
  },
  {
   "cell_type": "code",
   "execution_count": 5,
   "metadata": {},
   "outputs": [],
   "source": [
    "j = json.load(open('zackw_urls_with_topics_20160223_data.json'))"
   ]
  },
  {
   "cell_type": "code",
   "execution_count": 48,
   "metadata": {},
   "outputs": [
    {
     "name": "stdout",
     "output_type": "stream",
     "text": [
      "clab_categories <class 'dict'> 41\n",
      "sources <class 'dict'> 24\n",
      "urls <class 'dict'> 758191\n"
     ]
    }
   ],
   "source": [
    "for k in j.keys():  # dict_keys(['clab_categories', 'sources', 'urls'])\n",
    "    print(k, type(j[k]), len(j[k]))\n",
    "\n",
    "ju = j['urls']\n",
    "js = j['sources']"
   ]
  },
  {
   "cell_type": "code",
   "execution_count": 51,
   "metadata": {},
   "outputs": [
    {
     "name": "stdout",
     "output_type": "stream",
     "text": [
      "http://google.nl/\n",
      "450259\n"
     ]
    }
   ],
   "source": [
    "urls = set()\n",
    "sources = Counter()\n",
    "\n",
    "for u in ju:\n",
    "    uu = urlparse(u).netloc.lower()\n",
    "    for src in ju[u]['source_info']:\n",
    "        assert src in js\n",
    "        sources[src] += 1\n",
    "    if uu == 'google.nl':  # u.endswith('ee'):\n",
    "        print(u)\n",
    "        \n",
    "    urls.add(uu)\n",
    "    \n",
    "print(len(urls))"
   ]
  },
  {
   "cell_type": "code",
   "execution_count": 43,
   "metadata": {},
   "outputs": [
    {
     "data": {
      "text/plain": [
       "dict_keys(['11'])"
      ]
     },
     "execution_count": 43,
     "metadata": {},
     "output_type": "execute_result"
    }
   ],
   "source": [
    "ju['http://google.nl/']['source_info'].keys()"
   ]
  },
  {
   "cell_type": "code",
   "execution_count": 56,
   "metadata": {},
   "outputs": [
    {
     "name": "stdout",
     "output_type": "stream",
     "text": [
      "Herdict 2014 => 76935\n",
      "Turkey 2015 (Engelliweb) => 172971\n",
      "Thailand 2007 (Wikileaks) => 26789\n",
      "Syria 2015 (Bluesmote/Telecomix) => 12428\n",
      "UK 2015 (blocked.org.uk) => 87032\n",
      "Tweets 2014 => 28000\n",
      "Twitter user profiles 2014 => 12487\n",
      "Norway 2009 (Wikileaks) => 14022\n",
      "Denmark 2008 (Wikileaks) => 7402\n",
      "Open Net Initiative 2014 => 12107\n",
      "Germany 2014 (#BPjMleak) => 13174\n",
      "Russia 2014 (rublacklist.net) => 4482\n",
      "Finland 2009 (Wikileaks) => 1336\n",
      "Pinboard 2014 => 3876\n",
      "Common Crawl 2015 => 177109\n",
      "Wikipedia controversies 2015 => 105181\n",
      "Australia 2009 (ACMA; Wikileaks) => 5130\n",
      "Italy 2009 (Wikileaks) => 1078\n",
      "India 2012a (Anonymous) => 214\n",
      "Thailand 2008 (Wikileaks) => 1298\n",
      "Alexa 2014 => 25019\n",
      "India 2012b (Assam riots) => 103\n",
      "Thailand 2009 (Wikileaks) => 408\n"
     ]
    }
   ],
   "source": [
    "for s in sources:\n",
    "    print(js[s]['name'], '=>', sources[s])"
   ]
  }
 ],
 "metadata": {
  "kernelspec": {
   "display_name": "Python 3",
   "language": "python",
   "name": "python3"
  },
  "language_info": {
   "codemirror_mode": {
    "name": "ipython",
    "version": 3
   },
   "file_extension": ".py",
   "mimetype": "text/x-python",
   "name": "python",
   "nbconvert_exporter": "python",
   "pygments_lexer": "ipython3",
   "version": "3.6.3"
  }
 },
 "nbformat": 4,
 "nbformat_minor": 2
}
